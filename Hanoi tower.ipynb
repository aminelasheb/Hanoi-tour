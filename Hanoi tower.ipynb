{
 "cells": [
  {
   "cell_type": "markdown",
   "id": "1456969f",
   "metadata": {},
   "source": [
    "# Hanoi Tour"
   ]
  },
  {
   "cell_type": "markdown",
   "id": "6bfb17bf",
   "metadata": {},
   "source": [
    "The Hanoi Tower, also known as the Tower of Hanoi, is a mathematical puzzle consisting of three rods and a number of disks of different sizes, which can slide onto any rod. The puzzle starts with the disks in a neat stack in ascending order of size on one rod, the smallest at the top, thus making a conical shape. The objective of the puzzle is to move the entire stack to another rod, obeying the following simple rules:"
   ]
  },
  {
   "cell_type": "markdown",
   "id": "d22fb537",
   "metadata": {},
   "source": [
    "Only one disk can be moved at a time."
   ]
  },
  {
   "cell_type": "markdown",
   "id": "3c2d0f8c",
   "metadata": {},
   "source": [
    "Each move consists of taking the upper disk from one of the stacks and placing it on top of another stack or on an empty rod."
   ]
  },
  {
   "cell_type": "markdown",
   "id": "08b82acc",
   "metadata": {},
   "source": [
    "No disk may be placed on top of a smaller disk."
   ]
  },
  {
   "cell_type": "markdown",
   "id": "c004f662",
   "metadata": {},
   "source": [
    "The puzzle is often used as an educational tool in computer science and mathematics, because it demonstrates an algorithm for recursive problem-solving."
   ]
  },
  {
   "cell_type": "code",
   "execution_count": 1,
   "id": "4ad8a7d1",
   "metadata": {},
   "outputs": [],
   "source": [
    "def tower_of_hanoi(n, source, auxiliary, target, print_steps):\n",
    "    if n == 1:\n",
    "        if print_steps:\n",
    "            print(\"Move disk 1 from source\", source, \"to target\", target)\n",
    "        return\n",
    "\n",
    "    tower_of_hanoi(n - 1, source, target, auxiliary, print_steps)\n",
    "    if print_steps:\n",
    "        print(\"Move disk\", n, \"from source\", source, \"to target\", target)\n",
    "    tower_of_hanoi(n - 1, auxiliary, source, target, print_steps)"
   ]
  },
  {
   "cell_type": "markdown",
   "id": "a6f9df79",
   "metadata": {},
   "source": [
    "This implementation uses a recursive approach, where each step of the puzzle is divided into smaller subproblems that are similar to the original problem. The base case of the recursion is when there's only one disk to move, and the solution is to simply print a message indicating the move. For the recursive case, the top n-1 disks are moved from the source to the auxiliary peg using the target peg, then the n-th disk is moved from the source to the target peg, and finally the n-1 disks are moved from the auxiliary to the target peg using the source peg."
   ]
  },
  {
   "cell_type": "code",
   "execution_count": 2,
   "id": "1e590660",
   "metadata": {},
   "outputs": [
    {
     "name": "stdout",
     "output_type": "stream",
     "text": [
      "Move disk 1 from source A to target C\n",
      "Move disk 2 from source A to target B\n",
      "Move disk 1 from source C to target B\n",
      "Move disk 3 from source A to target C\n",
      "Move disk 1 from source B to target A\n",
      "Move disk 2 from source B to target C\n",
      "Move disk 1 from source A to target C\n"
     ]
    }
   ],
   "source": [
    "tower_of_hanoi(3, \"A\", \"B\", \"C\", print_steps=True)"
   ]
  },
  {
   "cell_type": "code",
   "execution_count": 3,
   "id": "c76d69ed",
   "metadata": {},
   "outputs": [
    {
     "name": "stdout",
     "output_type": "stream",
     "text": [
      "Move disk 1 from source A to target B\n",
      "Move disk 2 from source A to target C\n",
      "Move disk 1 from source B to target C\n",
      "Move disk 3 from source A to target B\n",
      "Move disk 1 from source C to target A\n",
      "Move disk 2 from source C to target B\n",
      "Move disk 1 from source A to target B\n",
      "Move disk 4 from source A to target C\n",
      "Move disk 1 from source B to target C\n",
      "Move disk 2 from source B to target A\n",
      "Move disk 1 from source C to target A\n",
      "Move disk 3 from source B to target C\n",
      "Move disk 1 from source A to target B\n",
      "Move disk 2 from source A to target C\n",
      "Move disk 1 from source B to target C\n"
     ]
    }
   ],
   "source": [
    "tower_of_hanoi(4, \"A\", \"B\", \"C\", print_steps=True)"
   ]
  },
  {
   "cell_type": "markdown",
   "id": "ff150868",
   "metadata": {},
   "source": [
    "# Execution time"
   ]
  },
  {
   "cell_type": "markdown",
   "id": "fbaea16c",
   "metadata": {},
   "source": [
    "To calculate the execution time of the preceding examples, we can use the time module in Python. Here's an example of measuring the execution time of the Tower of Hanoi puzzle with n = 3:"
   ]
  },
  {
   "cell_type": "code",
   "execution_count": 4,
   "id": "97682a77",
   "metadata": {},
   "outputs": [
    {
     "name": "stdout",
     "output_type": "stream",
     "text": [
      "Move disk 1 from source A to target C\n",
      "Move disk 2 from source A to target B\n",
      "Move disk 1 from source C to target B\n",
      "Move disk 3 from source A to target C\n",
      "Move disk 1 from source B to target A\n",
      "Move disk 2 from source B to target C\n",
      "Move disk 1 from source A to target C\n",
      "Execution time: 0.0009999275207519531 seconds\n"
     ]
    }
   ],
   "source": [
    "import time\n",
    "\n",
    "start = time.time()\n",
    "tower_of_hanoi(3, \"A\", \"B\", \"C\", print_steps=True)\n",
    "end = time.time()\n",
    "print(\"Execution time:\", end - start, \"seconds\")"
   ]
  },
  {
   "cell_type": "markdown",
   "id": "40cc0b55",
   "metadata": {},
   "source": [
    "And here's an example for n = 4:\n",
    "\n"
   ]
  },
  {
   "cell_type": "code",
   "execution_count": 5,
   "id": "eac1b119",
   "metadata": {},
   "outputs": [
    {
     "name": "stdout",
     "output_type": "stream",
     "text": [
      "Move disk 1 from source A to target B\n",
      "Move disk 2 from source A to target C\n",
      "Move disk 1 from source B to target C\n",
      "Move disk 3 from source A to target B\n",
      "Move disk 1 from source C to target A\n",
      "Move disk 2 from source C to target B\n",
      "Move disk 1 from source A to target B\n",
      "Move disk 4 from source A to target C\n",
      "Move disk 1 from source B to target C\n",
      "Move disk 2 from source B to target A\n",
      "Move disk 1 from source C to target A\n",
      "Move disk 3 from source B to target C\n",
      "Move disk 1 from source A to target B\n",
      "Move disk 2 from source A to target C\n",
      "Move disk 1 from source B to target C\n",
      "Execution time: 0.0009987354278564453 seconds\n"
     ]
    }
   ],
   "source": [
    "start = time.time()\n",
    "tower_of_hanoi(4, \"A\", \"B\", \"C\", print_steps=True)\n",
    "end = time.time()\n",
    "print(\"Execution time:\", end - start, \"seconds\")"
   ]
  },
  {
   "cell_type": "markdown",
   "id": "e0fe54f6",
   "metadata": {},
   "source": [
    "# Time complexity when n increase"
   ]
  },
  {
   "cell_type": "markdown",
   "id": "ef359afd",
   "metadata": {},
   "source": [
    "Creating a data frame to store the execution times of the Tower of Hanoi puzzle for n ranging from 3 to n"
   ]
  },
  {
   "cell_type": "markdown",
   "id": "d7d1c907",
   "metadata": {},
   "source": [
    "data is a list of dictionaries, where each dictionary contains the value of n and the corresponding execution time. The list is then converted into a Pandas data frame using the pd.DataFrame function. The resulting data frame contains two columns: n and execution_time, representing the size of the puzzle and the corresponding execution time, respectively"
   ]
  },
  {
   "cell_type": "code",
   "execution_count": 6,
   "id": "7cb8953c",
   "metadata": {},
   "outputs": [
    {
     "name": "stdout",
     "output_type": "stream",
     "text": [
      "     n  execution_time\n",
      "0    3        0.000000\n",
      "1    4        0.000000\n",
      "2    5        0.000000\n",
      "3    6        0.000000\n",
      "4    7        0.000000\n",
      "5    8        0.000000\n",
      "6    9        0.000000\n",
      "7   10        0.000000\n",
      "8   11        0.000966\n",
      "9   12        0.000000\n",
      "10  13        0.001992\n",
      "11  14        0.002065\n",
      "12  15        0.004932\n",
      "13  16        0.009053\n",
      "14  17        0.013969\n",
      "15  18        0.028025\n",
      "16  19        0.058992\n",
      "17  20        0.132447\n",
      "18  21        0.253921\n",
      "19  22        0.497998\n",
      "20  23        1.019046\n",
      "21  24        2.172957\n",
      "22  25        4.560046\n",
      "23  26        8.666951\n",
      "24  27       16.505050\n",
      "25  28       34.702996\n",
      "26  29       66.689770\n",
      "27  30      140.651930\n"
     ]
    }
   ],
   "source": [
    "import time\n",
    "import pandas as pd\n",
    "\n",
    "n=30\n",
    "data = []\n",
    "for n in range(3, n+1):\n",
    "    start = time.time()\n",
    "    tower_of_hanoi(n, \"A\", \"B\", \"C\", print_steps=False)\n",
    "    end = time.time()\n",
    "    execution_time = end - start\n",
    "    data.append({\"n\": n, \"execution_time\": execution_time})\n",
    "\n",
    "df = pd.DataFrame(data)\n",
    "print(df)\n"
   ]
  },
  {
   "cell_type": "markdown",
   "id": "b8dad5c8",
   "metadata": {},
   "source": [
    "visualize the execution times in a graph using Matplotlib, which is a popular data visualization library in Python"
   ]
  },
  {
   "cell_type": "code",
   "execution_count": 7,
   "id": "11463181",
   "metadata": {},
   "outputs": [],
   "source": [
    "import matplotlib.pyplot as plt"
   ]
  },
  {
   "cell_type": "code",
   "execution_count": 8,
   "id": "6caa6119",
   "metadata": {},
   "outputs": [
    {
     "data": {
      "image/png": "[encoded data removed]",
      "text/plain": [
       "<Figure size 640x480 with 1 Axes>"
      ]
     },
     "metadata": {},
     "output_type": "display_data"
    }
   ],
   "source": [
    "plt.plot(df[\"n\"], df[\"execution_time\"], marker=\"o\")\n",
    "plt.xlabel(\"Number of disks (n)\")\n",
    "plt.ylabel(\"Execution time (s)\")\n",
    "plt.title(\"Tower of Hanoi execution time\")\n",
    "plt.show()"
   ]
  },
  {
   "cell_type": "markdown",
   "id": "3661b14b",
   "metadata": {},
   "source": [
    "# CREDIT"
   ]
  },
  {
   "cell_type": "markdown",
   "id": "4ae65cc1",
   "metadata": {},
   "source": [
    "Lasheb Mohamed Amine"
   ]
  }
 ],
 "metadata": {
  "kernelspec": {
   "display_name": "Python 3 (ipykernel)",
   "language": "python",
   "name": "python3"
  },
  "language_info": {
   "codemirror_mode": {
    "name": "ipython",
    "version": 3
   },
   "file_extension": ".py",
   "mimetype": "text/x-python",
   "name": "python",
   "nbconvert_exporter": "python",
   "pygments_lexer": "ipython3",
   "version": "3.10.8"
  }
 },
 "nbformat": 4,
 "nbformat_minor": 5
}
